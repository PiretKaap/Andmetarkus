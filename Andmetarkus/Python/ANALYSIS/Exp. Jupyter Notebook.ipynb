{
 "cells": [
  {
   "cell_type": "markdown",
   "id": "ea74858f",
   "metadata": {},
   "source": [
    "# Minu esimese taseme pealkiri \n",
    "\n",
    "## Minu teine taseme pealkiri\n",
    "\n",
    "Tavaline tekst\n",
    "\n",
    "blublu\n"
   ]
  }
 ],
 "metadata": {
  "language_info": {
   "name": "python"
  }
 },
 "nbformat": 4,
 "nbformat_minor": 5
}
